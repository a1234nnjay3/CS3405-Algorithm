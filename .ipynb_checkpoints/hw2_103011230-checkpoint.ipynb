{
 "cells": [
  {
   "cell_type": "markdown",
   "metadata": {},
   "source": [
    "# CS3405 Homework 2 - Dynamic Programming\n",
    "\n",
    "## Student Name: 張子健\n",
    "## Student ID:  103011230"
   ]
  },
  {
   "cell_type": "markdown",
   "metadata": {},
   "source": [
    "### 1. Longest Common Subsequence"
   ]
  },
  {
   "cell_type": "markdown",
   "metadata": {},
   "source": [
    "* Straight forward brute-force Approach"
   ]
  },
  {
   "cell_type": "code",
   "execution_count": 56,
   "metadata": {},
   "outputs": [],
   "source": [
    "# x, y can be list or string\n",
    "def lcs(x,y):\n",
    "    if len(x) == 0 or len(y) == 0:\n",
    "        return 0\n",
    "    elif x[0] == y[0]:\n",
    "        ans = 1 + lcs(x[1:], y[1:])\n",
    "    else:\n",
    "        ans = max(lcs(x, y[1:]), lcs(x[1:], y))\n",
    "    return ans"
   ]
  },
  {
   "cell_type": "code",
   "execution_count": 57,
   "metadata": {},
   "outputs": [
    {
     "data": {
      "text/plain": [
       "4"
      ]
     },
     "execution_count": 57,
     "metadata": {},
     "output_type": "execute_result"
    }
   ],
   "source": [
    "lcs(\"TOYOTA\", \"TOKYO\")"
   ]
  },
  {
   "cell_type": "markdown",
   "metadata": {},
   "source": [
    "* Dictinary-based Approach"
   ]
  },
  {
   "cell_type": "code",
   "execution_count": 58,
   "metadata": {},
   "outputs": [],
   "source": [
    "# x, y can be list or string, d is a dictionary\n",
    "def lcsDict(x, y, d):\n",
    "    key = str(len(x)) + \"-\" + str(len(y))\n",
    "    # Check if it's in the Dict\n",
    "    if key in d:\n",
    "        return d[key]\n",
    "    #Three different situations\n",
    "    if len(x) == 0 or len(y) == 0:\n",
    "        d[key] = 0\n",
    "        return d[key]\n",
    "    elif x[0] == y[0]:\n",
    "        ans = 1 + lcsDict(x[1:], y[1:], d)\n",
    "    else:\n",
    "        ans = max(lcsDict(x, y[1:], d), lcsDict(x[1:], y, d))\n",
    "    #Saved in Dict\n",
    "    d[key] = ans\n",
    "    return d[key]"
   ]
  },
  {
   "cell_type": "code",
   "execution_count": 59,
   "metadata": {},
   "outputs": [
    {
     "data": {
      "text/plain": [
       "4"
      ]
     },
     "execution_count": 59,
     "metadata": {},
     "output_type": "execute_result"
    }
   ],
   "source": [
    "lcsDict(\"TOYOTA\", \"TOKYO\", {})"
   ]
  },
  {
   "cell_type": "markdown",
   "metadata": {},
   "source": [
    "* Array-based Approach"
   ]
  },
  {
   "cell_type": "code",
   "execution_count": 60,
   "metadata": {},
   "outputs": [],
   "source": [
    "import numpy as np\n",
    "def lcsArray(x, y):\n",
    "    a = np.zeros([len(x)+1, len(y)+1])\n",
    "    for i in range(1, len(x)+1):\n",
    "        for j in range(1, len(y)+1):\n",
    "            if x[i-1] == y[j-1]:\n",
    "                a[i, j] = 1 + a[i-1, j-1]\n",
    "            else:\n",
    "                a[i, j] = max(a[i, j-1], a[i-1, j])\n",
    "    return int(a[len(x), len(y)])"
   ]
  },
  {
   "cell_type": "code",
   "execution_count": 61,
   "metadata": {},
   "outputs": [
    {
     "data": {
      "text/plain": [
       "4"
      ]
     },
     "execution_count": 61,
     "metadata": {},
     "output_type": "execute_result"
    }
   ],
   "source": [
    "lcsArray(\"TOYOTA\", \"TOKYO\")"
   ]
  },
  {
   "cell_type": "markdown",
   "metadata": {},
   "source": [
    "### 2. Chain Matrix Multiplication"
   ]
  },
  {
   "cell_type": "markdown",
   "metadata": {},
   "source": [
    "* Straight forward brute-force Approach"
   ]
  },
  {
   "cell_type": "code",
   "execution_count": 62,
   "metadata": {},
   "outputs": [],
   "source": [
    "def cmm(chain):\n",
    "    if len(chain)<=1:\n",
    "        return 0\n",
    "    else:\n",
    "        #which index to cut\n",
    "        cost = min(cmm(chain[k:]) + cmm(chain[:k]) + chain[0][0] * chain[k][0] * chain[-1][1] for k in range(1, len(chain)))\n",
    "    return cost"
   ]
  },
  {
   "cell_type": "code",
   "execution_count": 63,
   "metadata": {
    "scrolled": true
   },
   "outputs": [
    {
     "data": {
      "text/plain": [
       "13"
      ]
     },
     "execution_count": 63,
     "metadata": {},
     "output_type": "execute_result"
    }
   ],
   "source": [
    "ch = [(1, 2), (2, 3), (3, 1), (1, 5)]\n",
    "cmm(ch)"
   ]
  },
  {
   "cell_type": "markdown",
   "metadata": {},
   "source": [
    "* Dictinary-based Approach"
   ]
  },
  {
   "cell_type": "code",
   "execution_count": 64,
   "metadata": {},
   "outputs": [],
   "source": [
    "def cmmDict(chain, d, i, j):\n",
    "    key = str(i) + \"-\" + str(j)   #start index to end index\n",
    "    if key in d:\n",
    "        return d[key]\n",
    "    if len(chain)<=1:\n",
    "        d[key] = 0\n",
    "        return d[key]\n",
    "    else:\n",
    "        cost = min(cmmDict(chain[k:], d, i+k, j) + cmmDict(chain[:k], d, i, i+k-1) + chain[0][0] * chain[k][0] * chain[-1][1] for k in range(1, len(chain)))\n",
    "    d[key] = cost\n",
    "    return d[key]"
   ]
  },
  {
   "cell_type": "code",
   "execution_count": 65,
   "metadata": {
    "scrolled": true
   },
   "outputs": [
    {
     "data": {
      "text/plain": [
       "13"
      ]
     },
     "execution_count": 65,
     "metadata": {},
     "output_type": "execute_result"
    }
   ],
   "source": [
    "ch = [(1, 2), (2, 3), (3, 1), (1, 5)]\n",
    "d={}\n",
    "cmmDict(ch, d, 0, len(ch)-1)"
   ]
  },
  {
   "cell_type": "markdown",
   "metadata": {},
   "source": [
    "* Array-based Approach"
   ]
  },
  {
   "cell_type": "code",
   "execution_count": 66,
   "metadata": {},
   "outputs": [],
   "source": [
    "def cmmArray(chain):\n",
    "    a = np.zeros([len(chain), len(chain)])\n",
    "    for i in range(1, len(chain)):\n",
    "        x, y = 0, i\n",
    "        for j in range(1, len(chain)-i+1):\n",
    "            a[x][y] = min(a[x][k] + a[k+1][y] + chain[x][0] * chain[k+1][0] * chain[y][1] for k in range(x, y))\n",
    "            x, y = x+1, y+1    #Move right and down\n",
    "    return a"
   ]
  },
  {
   "cell_type": "code",
   "execution_count": 67,
   "metadata": {},
   "outputs": [
    {
     "data": {
      "text/plain": [
       "array([[ 0.,  6.,  8., 13.],\n",
       "       [ 0.,  0.,  6., 16.],\n",
       "       [ 0.,  0.,  0., 15.],\n",
       "       [ 0.,  0.,  0.,  0.]])"
      ]
     },
     "execution_count": 67,
     "metadata": {},
     "output_type": "execute_result"
    }
   ],
   "source": [
    "ch = [(1, 2), (2, 3), (3, 1), (1, 5)]\n",
    "cmmArray(ch)"
   ]
  },
  {
   "cell_type": "markdown",
   "metadata": {},
   "source": [
    "### 3. Text Justification"
   ]
  },
  {
   "cell_type": "markdown",
   "metadata": {},
   "source": [
    "* Straight forward brute-force Approach"
   ]
  },
  {
   "cell_type": "code",
   "execution_count": 68,
   "metadata": {},
   "outputs": [],
   "source": [
    "def tj(tl, lw):\n",
    "    if len(tl) == 0:\n",
    "        return 0\n",
    "    elif len(tl) == 1:\n",
    "        return (lw - len(tl[0])) ** 2\n",
    "    else:\n",
    "        usage = len(tl[0])\n",
    "        waste = [(lw-usage)**2]\n",
    "        maxwords = 1\n",
    "        while usage + 1 + len(tl[maxwords]) <= lw:\n",
    "            usage = usage + 1 + len(tl[maxwords])\n",
    "            waste.append((lw-usage)**2)\n",
    "            maxwords += 1\n",
    "            if maxwords == len(tl):\n",
    "                break\n",
    "    return min([waste[k] + tj(tl[k+1:], lw) for k in range(maxwords)])"
   ]
  },
  {
   "cell_type": "code",
   "execution_count": 34,
   "metadata": {},
   "outputs": [
    {
     "data": {
      "text/plain": [
       "399"
      ]
     },
     "execution_count": 34,
     "metadata": {},
     "output_type": "execute_result"
    }
   ],
   "source": [
    "t = \"Dolen says these findings could help scientists better understand social behavior, as well as give clues about possible treatments for serotonin-related human conditions like schizophrenia and PTSD. \"\n",
    "textList = t.split()\n",
    "tj(textList, 40)"
   ]
  },
  {
   "cell_type": "markdown",
   "metadata": {},
   "source": [
    "* Dictinary-based Approach"
   ]
  },
  {
   "cell_type": "code",
   "execution_count": 69,
   "metadata": {},
   "outputs": [],
   "source": [
    "def tjDict(tl, lw, d, i, j):\n",
    "    key = str(i)+\"-\"+str(j)\n",
    "    if key in d:\n",
    "        return d[key]\n",
    "    elif i >= j:\n",
    "        d[key] = 0\n",
    "        return d[key]\n",
    "    else:\n",
    "        usage = len(tl[i])\n",
    "        waste = [(lw-usage)**2]\n",
    "        k = 1\n",
    "        while (i + k < j and usage + 1 + len(tl[i+k]) <= lw):\n",
    "            usage = usage + 1 + len(tl[i+k])\n",
    "            waste.append((lw - usage)**2)\n",
    "            k += 1\n",
    "        d[key] = min([w + tjDict(tl, lw, d, i+r+1, j) for r, w in enumerate(waste)])\n",
    "        return d[key]"
   ]
  },
  {
   "cell_type": "code",
   "execution_count": 70,
   "metadata": {
    "scrolled": true
   },
   "outputs": [
    {
     "data": {
      "text/plain": [
       "399"
      ]
     },
     "execution_count": 70,
     "metadata": {},
     "output_type": "execute_result"
    }
   ],
   "source": [
    "d = {}\n",
    "tjDict(textList, 40, d, 0, len(textList))"
   ]
  },
  {
   "cell_type": "markdown",
   "metadata": {},
   "source": [
    "* Array-based Approach"
   ]
  },
  {
   "cell_type": "code",
   "execution_count": 79,
   "metadata": {},
   "outputs": [],
   "source": [
    "def tjArray(textlist, lw):\n",
    "    textlen = len(textlist)\n",
    "    cost = [0] * (textlen + 1)\n",
    "    wordsinline = cost[:]\n",
    "    \n",
    "    for i in range(textlen-1, -1, -1):\n",
    "        usage = len(textlist[i])\n",
    "        waste = [(lw - len(textlist[i])) ** 2]\n",
    "        j = i + 1\n",
    "        \n",
    "        while (j <= textlen - 1 and usage + 1 + len(textlist[j]) <= lw):\n",
    "            usage = usage + 1 + len(textlist[j])\n",
    "            waste.append((lw - usage) ** 2)\n",
    "            j += 1\n",
    "         \n",
    "        cost[i],wordsinline[i] = min([(w + cost[i+1+k], k+1) for k, w in enumerate(waste)])\n",
    "    print (\"Cost :\", cost[0])\n",
    "    \n",
    "    jtext = \"\"\n",
    "    i = 0\n",
    "    while i <= textlen-1:\n",
    "        line = str(textlist[i])\n",
    "        if i < textlen-1:\n",
    "            for j in range(i+1, i+wordsinline[i]):\n",
    "                line += \" \" + str(textlist[j])\n",
    "        line += \"\\n\"\n",
    "        jtext += line\n",
    "        i += wordsinline[i]\n",
    "    print (jtext)"
   ]
  },
  {
   "cell_type": "code",
   "execution_count": 80,
   "metadata": {
    "scrolled": true
   },
   "outputs": [
    {
     "name": "stdout",
     "output_type": "stream",
     "text": [
      "Cost : 399\n",
      "Dolen says these findings could\n",
      "help scientists better understand\n",
      "social behavior, as well as give\n",
      "clues about possible treatments for\n",
      "serotonin-related human conditions\n",
      "like schizophrenia and PTSD.\n",
      "\n"
     ]
    }
   ],
   "source": [
    "tjArray(textList, 40)"
   ]
  },
  {
   "cell_type": "markdown",
   "metadata": {},
   "source": [
    "### 4. Knapsack Problem\n",
    "#### In this Knapsack problem we have a knapsack that can hold a specific weight (C) and we have a series of objects to place in it. Each object has a weight (wt) and a corresponding value (V). Our goal is best utilize the space in the knapsack by maximizing the value of the objects placed in it."
   ]
  },
  {
   "cell_type": "markdown",
   "metadata": {},
   "source": [
    "* Straight forward brute-force Approach"
   ]
  },
  {
   "cell_type": "code",
   "execution_count": 73,
   "metadata": {},
   "outputs": [],
   "source": [
    "def ks(C, wt, V, n):\n",
    "    \n",
    "    if n == 0 or C == 0 :\n",
    "        return 0\n",
    "    elif (wt[n-1] > C):\n",
    "        return ks(C , wt , V , n-1)\n",
    "    else:\n",
    "        return max(V[n-1] + ks(C-wt[n-1] , wt , V , n-1), ks(C , wt , V , n-1))"
   ]
  },
  {
   "cell_type": "code",
   "execution_count": 74,
   "metadata": {},
   "outputs": [
    {
     "data": {
      "text/plain": [
       "270"
      ]
     },
     "execution_count": 74,
     "metadata": {},
     "output_type": "execute_result"
    }
   ],
   "source": [
    "ks(50, [10, 20, 25, 7, 12, 15] , [60, 100, 120, 40, 70, 90] , 6)"
   ]
  },
  {
   "cell_type": "markdown",
   "metadata": {},
   "source": [
    "* Dictinary-based Approach"
   ]
  },
  {
   "cell_type": "code",
   "execution_count": 75,
   "metadata": {},
   "outputs": [],
   "source": [
    "def ksDict(C, wt, V, n, d):\n",
    "    key = str(n) + \"-\" + str(C)\n",
    "    if key in d:\n",
    "        return d[key]\n",
    "    if n == 0 or C == 0 :\n",
    "        d[key] = 0\n",
    "        return d[key]\n",
    "    elif (wt[n-1] > C):\n",
    "        return ksDict(C , wt , V , n-1, d)\n",
    "    else:\n",
    "        value = max(V[n-1] + ksDict(C-wt[n-1] , wt , V , n-1, d), ksDict(C , wt , V , n-1, d))\n",
    "    d[key] = value\n",
    "    return d[key]"
   ]
  },
  {
   "cell_type": "code",
   "execution_count": 76,
   "metadata": {
    "scrolled": true
   },
   "outputs": [
    {
     "data": {
      "text/plain": [
       "270"
      ]
     },
     "execution_count": 76,
     "metadata": {},
     "output_type": "execute_result"
    }
   ],
   "source": [
    "ksDict(50, [10, 20, 25, 7, 12, 15] , [60, 100, 120, 40, 70, 90] , 6, {})"
   ]
  },
  {
   "cell_type": "markdown",
   "metadata": {},
   "source": [
    "* Array-based Approach"
   ]
  },
  {
   "cell_type": "code",
   "execution_count": 77,
   "metadata": {},
   "outputs": [],
   "source": [
    "def ksArray(C, wt, V, n):\n",
    "    a = [[0 for x in range(C+1)] for x in range(n+1)]\n",
    "    for i in range(n+1):\n",
    "        for j in range(C+1):\n",
    "            if i==0 or j==0:\n",
    "                a[i][j] = 0\n",
    "            elif wt[i-1] <= j:\n",
    "                a[i][j] = max(V[i-1] + a[i-1][j-wt[i-1]],  a[i-1][j])\n",
    "            else:\n",
    "                a[i][j] = a[i-1][j] \n",
    "    return a[n][C]"
   ]
  },
  {
   "cell_type": "code",
   "execution_count": 78,
   "metadata": {},
   "outputs": [
    {
     "data": {
      "text/plain": [
       "270"
      ]
     },
     "execution_count": 78,
     "metadata": {},
     "output_type": "execute_result"
    }
   ],
   "source": [
    "ksArray(50, [10, 20, 25, 7, 12, 15] , [60, 100, 120, 40, 70, 90] , 6)"
   ]
  }
 ],
 "metadata": {
  "kernelspec": {
   "display_name": "Python 3",
   "language": "python",
   "name": "python3"
  },
  "language_info": {
   "codemirror_mode": {
    "name": "ipython",
    "version": 3
   },
   "file_extension": ".py",
   "mimetype": "text/x-python",
   "name": "python",
   "nbconvert_exporter": "python",
   "pygments_lexer": "ipython3",
   "version": "3.7.0"
  },
  "varInspector": {
   "cols": {
    "lenName": 16,
    "lenType": 16,
    "lenVar": 40
   },
   "kernels_config": {
    "python": {
     "delete_cmd_postfix": "",
     "delete_cmd_prefix": "del ",
     "library": "var_list.py",
     "varRefreshCmd": "print(var_dic_list())"
    },
    "r": {
     "delete_cmd_postfix": ") ",
     "delete_cmd_prefix": "rm(",
     "library": "var_list.r",
     "varRefreshCmd": "cat(var_dic_list()) "
    }
   },
   "types_to_exclude": [
    "module",
    "function",
    "builtin_function_or_method",
    "instance",
    "_Feature"
   ],
   "window_display": false
  }
 },
 "nbformat": 4,
 "nbformat_minor": 2
}
